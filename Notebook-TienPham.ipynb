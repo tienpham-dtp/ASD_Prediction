{
 "cells": [
  {
   "cell_type": "code",
   "execution_count": 1,
   "metadata": {},
   "outputs": [],
   "source": [
    "import pandas as pd\n",
    "import numpy as np\n",
    "import matplotlib.pyplot as plt\n",
    "import seaborn as sns\n",
    "from collections import Counter\n",
    "import scipy.stats as ss\n",
    "import nltk\n"
   ]
  },
  {
   "cell_type": "code",
   "execution_count": 3,
   "metadata": {},
   "outputs": [
    {
     "data": {
      "text/html": [
       "<div>\n",
       "<style scoped>\n",
       "    .dataframe tbody tr th:only-of-type {\n",
       "        vertical-align: middle;\n",
       "    }\n",
       "\n",
       "    .dataframe tbody tr th {\n",
       "        vertical-align: top;\n",
       "    }\n",
       "\n",
       "    .dataframe thead th {\n",
       "        text-align: right;\n",
       "    }\n",
       "</style>\n",
       "<table border=\"1\" class=\"dataframe\">\n",
       "  <thead>\n",
       "    <tr style=\"text-align: right;\">\n",
       "      <th></th>\n",
       "      <th>A1_Score</th>\n",
       "      <th>A2_Score</th>\n",
       "      <th>A3_Score</th>\n",
       "      <th>A4_Score</th>\n",
       "      <th>A5_Score</th>\n",
       "      <th>A6_Score</th>\n",
       "      <th>A7_Score</th>\n",
       "      <th>A8_Score</th>\n",
       "      <th>A9_Score</th>\n",
       "      <th>A10_Score</th>\n",
       "      <th>Age</th>\n",
       "      <th>Gender</th>\n",
       "      <th>Ethnicity</th>\n",
       "      <th>Jundice</th>\n",
       "      <th>Family</th>\n",
       "      <th>Country_of_res</th>\n",
       "      <th>Used_app_before</th>\n",
       "      <th>Age_desc</th>\n",
       "      <th>Relation</th>\n",
       "      <th>ASD</th>\n",
       "    </tr>\n",
       "  </thead>\n",
       "  <tbody>\n",
       "    <tr>\n",
       "      <th>0</th>\n",
       "      <td>1.0</td>\n",
       "      <td>1.0</td>\n",
       "      <td>1.0</td>\n",
       "      <td>1.0</td>\n",
       "      <td>0</td>\n",
       "      <td>0.0</td>\n",
       "      <td>1.0</td>\n",
       "      <td>1.0</td>\n",
       "      <td>0.0</td>\n",
       "      <td>0.0</td>\n",
       "      <td>26.0</td>\n",
       "      <td>f</td>\n",
       "      <td>White-European</td>\n",
       "      <td>no</td>\n",
       "      <td>no</td>\n",
       "      <td>'United States'</td>\n",
       "      <td>no</td>\n",
       "      <td>'18 and more'</td>\n",
       "      <td>Self</td>\n",
       "      <td>NO</td>\n",
       "    </tr>\n",
       "    <tr>\n",
       "      <th>1</th>\n",
       "      <td>1.0</td>\n",
       "      <td>1.0</td>\n",
       "      <td>0.0</td>\n",
       "      <td>1.0</td>\n",
       "      <td>0</td>\n",
       "      <td>0.0</td>\n",
       "      <td>0.0</td>\n",
       "      <td>1.0</td>\n",
       "      <td>0.0</td>\n",
       "      <td>1.0</td>\n",
       "      <td>24.0</td>\n",
       "      <td>m</td>\n",
       "      <td>Latino</td>\n",
       "      <td>no</td>\n",
       "      <td>yes</td>\n",
       "      <td>Brazil</td>\n",
       "      <td>no</td>\n",
       "      <td>'18 and more'</td>\n",
       "      <td>Self</td>\n",
       "      <td>NO</td>\n",
       "    </tr>\n",
       "    <tr>\n",
       "      <th>2</th>\n",
       "      <td>1.0</td>\n",
       "      <td>1.0</td>\n",
       "      <td>0.0</td>\n",
       "      <td>1.0</td>\n",
       "      <td>1</td>\n",
       "      <td>0.0</td>\n",
       "      <td>1.0</td>\n",
       "      <td>1.0</td>\n",
       "      <td>1.0</td>\n",
       "      <td>1.0</td>\n",
       "      <td>27.0</td>\n",
       "      <td>m</td>\n",
       "      <td>Latino</td>\n",
       "      <td>yes</td>\n",
       "      <td>yes</td>\n",
       "      <td>Spain</td>\n",
       "      <td>no</td>\n",
       "      <td>'18 and more'</td>\n",
       "      <td>Parent</td>\n",
       "      <td>YES</td>\n",
       "    </tr>\n",
       "    <tr>\n",
       "      <th>3</th>\n",
       "      <td>1.0</td>\n",
       "      <td>1.0</td>\n",
       "      <td>0.0</td>\n",
       "      <td>1.0</td>\n",
       "      <td>0</td>\n",
       "      <td>0.0</td>\n",
       "      <td>1.0</td>\n",
       "      <td>1.0</td>\n",
       "      <td>0.0</td>\n",
       "      <td>1.0</td>\n",
       "      <td>35.0</td>\n",
       "      <td>f</td>\n",
       "      <td>White-European</td>\n",
       "      <td>no</td>\n",
       "      <td>yes</td>\n",
       "      <td>'United States'</td>\n",
       "      <td>no</td>\n",
       "      <td>'18 and more'</td>\n",
       "      <td>Self</td>\n",
       "      <td>NO</td>\n",
       "    </tr>\n",
       "    <tr>\n",
       "      <th>4</th>\n",
       "      <td>1.0</td>\n",
       "      <td>0.0</td>\n",
       "      <td>0.0</td>\n",
       "      <td>0.0</td>\n",
       "      <td>0</td>\n",
       "      <td>0.0</td>\n",
       "      <td>0.0</td>\n",
       "      <td>1.0</td>\n",
       "      <td>0.0</td>\n",
       "      <td>0.0</td>\n",
       "      <td>40.0</td>\n",
       "      <td>f</td>\n",
       "      <td>NaN</td>\n",
       "      <td>no</td>\n",
       "      <td>no</td>\n",
       "      <td>Egypt</td>\n",
       "      <td>no</td>\n",
       "      <td>'18 and more'</td>\n",
       "      <td>NaN</td>\n",
       "      <td>NO</td>\n",
       "    </tr>\n",
       "  </tbody>\n",
       "</table>\n",
       "</div>"
      ],
      "text/plain": [
       "   A1_Score  A2_Score  A3_Score  A4_Score  A5_Score  A6_Score  A7_Score  \\\n",
       "0       1.0       1.0       1.0       1.0         0       0.0       1.0   \n",
       "1       1.0       1.0       0.0       1.0         0       0.0       0.0   \n",
       "2       1.0       1.0       0.0       1.0         1       0.0       1.0   \n",
       "3       1.0       1.0       0.0       1.0         0       0.0       1.0   \n",
       "4       1.0       0.0       0.0       0.0         0       0.0       0.0   \n",
       "\n",
       "   A8_Score  A9_Score  A10_Score   Age Gender       Ethnicity Jundice Family  \\\n",
       "0       1.0       0.0        0.0  26.0      f  White-European      no     no   \n",
       "1       1.0       0.0        1.0  24.0      m          Latino      no    yes   \n",
       "2       1.0       1.0        1.0  27.0      m          Latino     yes    yes   \n",
       "3       1.0       0.0        1.0  35.0      f  White-European      no    yes   \n",
       "4       1.0       0.0        0.0  40.0      f             NaN      no     no   \n",
       "\n",
       "    Country_of_res Used_app_before       Age_desc Relation  ASD  \n",
       "0  'United States'              no  '18 and more'     Self   NO  \n",
       "1           Brazil              no  '18 and more'     Self   NO  \n",
       "2            Spain              no  '18 and more'   Parent  YES  \n",
       "3  'United States'              no  '18 and more'     Self   NO  \n",
       "4            Egypt              no  '18 and more'      NaN   NO  "
      ]
     },
     "execution_count": 3,
     "metadata": {},
     "output_type": "execute_result"
    }
   ],
   "source": [
    "df = pd.read_csv('Autism-Adult-Data.csv')\n",
    "df.head()"
   ]
  },
  {
   "cell_type": "markdown",
   "metadata": {},
   "source": [
    "### Data has 704 instances with 19 features with 26.84% of the data are diagnosed with ASD - Consider class imbalance problem in modelling"
   ]
  },
  {
   "cell_type": "code",
   "execution_count": 4,
   "metadata": {},
   "outputs": [
    {
     "data": {
      "text/plain": [
       "(704, 20)"
      ]
     },
     "execution_count": 4,
     "metadata": {},
     "output_type": "execute_result"
    }
   ],
   "source": [
    "df.shape"
   ]
  },
  {
   "cell_type": "code",
   "execution_count": 5,
   "metadata": {},
   "outputs": [
    {
     "data": {
      "text/html": [
       "<div>\n",
       "<style scoped>\n",
       "    .dataframe tbody tr th:only-of-type {\n",
       "        vertical-align: middle;\n",
       "    }\n",
       "\n",
       "    .dataframe tbody tr th {\n",
       "        vertical-align: top;\n",
       "    }\n",
       "\n",
       "    .dataframe thead th {\n",
       "        text-align: right;\n",
       "    }\n",
       "</style>\n",
       "<table border=\"1\" class=\"dataframe\">\n",
       "  <thead>\n",
       "    <tr style=\"text-align: right;\">\n",
       "      <th></th>\n",
       "      <th>A1_Score</th>\n",
       "      <th>A2_Score</th>\n",
       "      <th>A3_Score</th>\n",
       "      <th>A4_Score</th>\n",
       "      <th>A5_Score</th>\n",
       "      <th>A6_Score</th>\n",
       "      <th>A7_Score</th>\n",
       "      <th>A8_Score</th>\n",
       "      <th>A9_Score</th>\n",
       "      <th>A10_Score</th>\n",
       "      <th>Age</th>\n",
       "    </tr>\n",
       "  </thead>\n",
       "  <tbody>\n",
       "    <tr>\n",
       "      <th>count</th>\n",
       "      <td>700.000000</td>\n",
       "      <td>701.000000</td>\n",
       "      <td>701.000000</td>\n",
       "      <td>701.000000</td>\n",
       "      <td>704.000000</td>\n",
       "      <td>702.000000</td>\n",
       "      <td>699.00000</td>\n",
       "      <td>703.000000</td>\n",
       "      <td>701.000000</td>\n",
       "      <td>703.000000</td>\n",
       "      <td>698.000000</td>\n",
       "    </tr>\n",
       "    <tr>\n",
       "      <th>mean</th>\n",
       "      <td>0.724286</td>\n",
       "      <td>0.453638</td>\n",
       "      <td>0.456491</td>\n",
       "      <td>0.495007</td>\n",
       "      <td>0.498580</td>\n",
       "      <td>0.284900</td>\n",
       "      <td>0.41774</td>\n",
       "      <td>0.648649</td>\n",
       "      <td>0.323823</td>\n",
       "      <td>0.574680</td>\n",
       "      <td>29.710602</td>\n",
       "    </tr>\n",
       "    <tr>\n",
       "      <th>std</th>\n",
       "      <td>0.447193</td>\n",
       "      <td>0.498201</td>\n",
       "      <td>0.498459</td>\n",
       "      <td>0.500332</td>\n",
       "      <td>0.500353</td>\n",
       "      <td>0.451689</td>\n",
       "      <td>0.49354</td>\n",
       "      <td>0.477732</td>\n",
       "      <td>0.468268</td>\n",
       "      <td>0.494743</td>\n",
       "      <td>16.542781</td>\n",
       "    </tr>\n",
       "    <tr>\n",
       "      <th>min</th>\n",
       "      <td>0.000000</td>\n",
       "      <td>0.000000</td>\n",
       "      <td>0.000000</td>\n",
       "      <td>0.000000</td>\n",
       "      <td>0.000000</td>\n",
       "      <td>0.000000</td>\n",
       "      <td>0.00000</td>\n",
       "      <td>0.000000</td>\n",
       "      <td>0.000000</td>\n",
       "      <td>0.000000</td>\n",
       "      <td>17.000000</td>\n",
       "    </tr>\n",
       "    <tr>\n",
       "      <th>25%</th>\n",
       "      <td>0.000000</td>\n",
       "      <td>0.000000</td>\n",
       "      <td>0.000000</td>\n",
       "      <td>0.000000</td>\n",
       "      <td>0.000000</td>\n",
       "      <td>0.000000</td>\n",
       "      <td>0.00000</td>\n",
       "      <td>0.000000</td>\n",
       "      <td>0.000000</td>\n",
       "      <td>0.000000</td>\n",
       "      <td>21.000000</td>\n",
       "    </tr>\n",
       "    <tr>\n",
       "      <th>50%</th>\n",
       "      <td>1.000000</td>\n",
       "      <td>0.000000</td>\n",
       "      <td>0.000000</td>\n",
       "      <td>0.000000</td>\n",
       "      <td>0.000000</td>\n",
       "      <td>0.000000</td>\n",
       "      <td>0.00000</td>\n",
       "      <td>1.000000</td>\n",
       "      <td>0.000000</td>\n",
       "      <td>1.000000</td>\n",
       "      <td>27.000000</td>\n",
       "    </tr>\n",
       "    <tr>\n",
       "      <th>75%</th>\n",
       "      <td>1.000000</td>\n",
       "      <td>1.000000</td>\n",
       "      <td>1.000000</td>\n",
       "      <td>1.000000</td>\n",
       "      <td>1.000000</td>\n",
       "      <td>1.000000</td>\n",
       "      <td>1.00000</td>\n",
       "      <td>1.000000</td>\n",
       "      <td>1.000000</td>\n",
       "      <td>1.000000</td>\n",
       "      <td>35.000000</td>\n",
       "    </tr>\n",
       "    <tr>\n",
       "      <th>max</th>\n",
       "      <td>1.000000</td>\n",
       "      <td>1.000000</td>\n",
       "      <td>1.000000</td>\n",
       "      <td>1.000000</td>\n",
       "      <td>1.000000</td>\n",
       "      <td>1.000000</td>\n",
       "      <td>1.00000</td>\n",
       "      <td>1.000000</td>\n",
       "      <td>1.000000</td>\n",
       "      <td>1.000000</td>\n",
       "      <td>383.000000</td>\n",
       "    </tr>\n",
       "  </tbody>\n",
       "</table>\n",
       "</div>"
      ],
      "text/plain": [
       "         A1_Score    A2_Score    A3_Score    A4_Score    A5_Score    A6_Score  \\\n",
       "count  700.000000  701.000000  701.000000  701.000000  704.000000  702.000000   \n",
       "mean     0.724286    0.453638    0.456491    0.495007    0.498580    0.284900   \n",
       "std      0.447193    0.498201    0.498459    0.500332    0.500353    0.451689   \n",
       "min      0.000000    0.000000    0.000000    0.000000    0.000000    0.000000   \n",
       "25%      0.000000    0.000000    0.000000    0.000000    0.000000    0.000000   \n",
       "50%      1.000000    0.000000    0.000000    0.000000    0.000000    0.000000   \n",
       "75%      1.000000    1.000000    1.000000    1.000000    1.000000    1.000000   \n",
       "max      1.000000    1.000000    1.000000    1.000000    1.000000    1.000000   \n",
       "\n",
       "        A7_Score    A8_Score    A9_Score   A10_Score         Age  \n",
       "count  699.00000  703.000000  701.000000  703.000000  698.000000  \n",
       "mean     0.41774    0.648649    0.323823    0.574680   29.710602  \n",
       "std      0.49354    0.477732    0.468268    0.494743   16.542781  \n",
       "min      0.00000    0.000000    0.000000    0.000000   17.000000  \n",
       "25%      0.00000    0.000000    0.000000    0.000000   21.000000  \n",
       "50%      0.00000    1.000000    0.000000    1.000000   27.000000  \n",
       "75%      1.00000    1.000000    1.000000    1.000000   35.000000  \n",
       "max      1.00000    1.000000    1.000000    1.000000  383.000000  "
      ]
     },
     "execution_count": 5,
     "metadata": {},
     "output_type": "execute_result"
    }
   ],
   "source": [
    "df.describe()"
   ]
  },
  {
   "cell_type": "code",
   "execution_count": 6,
   "metadata": {},
   "outputs": [
    {
     "data": {
      "text/plain": [
       "NO     515\n",
       "YES    189\n",
       "Name: ASD, dtype: int64"
      ]
     },
     "execution_count": 6,
     "metadata": {},
     "output_type": "execute_result"
    }
   ],
   "source": [
    "df['ASD'].value_counts()"
   ]
  },
  {
   "cell_type": "code",
   "execution_count": 7,
   "metadata": {},
   "outputs": [
    {
     "name": "stdout",
     "output_type": "stream",
     "text": [
      "Number of ASD: 189, Number of No ASD - 515. \n",
      "Proportion ASD/None: 26.84659090909091%\n"
     ]
    }
   ],
   "source": [
    "print('Number of ASD: {}, Number of No ASD - {}. \\nProportion ASD/None: {}%'.format(189, 515, 189/(515 + 189)*100))"
   ]
  },
  {
   "cell_type": "code",
   "execution_count": 8,
   "metadata": {},
   "outputs": [
    {
     "data": {
      "text/plain": [
       "2"
      ]
     },
     "execution_count": 8,
     "metadata": {},
     "output_type": "execute_result"
    }
   ],
   "source": [
    "len(df['ASD'].unique())"
   ]
  },
  {
   "cell_type": "markdown",
   "metadata": {},
   "source": [
    "# Part 1: Data Exploration\n",
    "Brief overview of the unique values and the distribution of each feature's values"
   ]
  },
  {
   "cell_type": "code",
   "execution_count": 9,
   "metadata": {},
   "outputs": [
    {
     "name": "stdout",
     "output_type": "stream",
     "text": [
      "A1_Score\n",
      "Number of unique values: 3\n",
      "1.0    507\n",
      "0.0    193\n",
      "Name: A1_Score, dtype: int64\n",
      "\n",
      "\n",
      "A2_Score\n",
      "Number of unique values: 3\n",
      "0.0    383\n",
      "1.0    318\n",
      "Name: A2_Score, dtype: int64\n",
      "\n",
      "\n",
      "A3_Score\n",
      "Number of unique values: 3\n",
      "0.0    381\n",
      "1.0    320\n",
      "Name: A3_Score, dtype: int64\n",
      "\n",
      "\n",
      "A4_Score\n",
      "Number of unique values: 3\n",
      "0.0    354\n",
      "1.0    347\n",
      "Name: A4_Score, dtype: int64\n",
      "\n",
      "\n",
      "A5_Score\n",
      "Number of unique values: 2\n",
      "0    353\n",
      "1    351\n",
      "Name: A5_Score, dtype: int64\n",
      "\n",
      "\n",
      "A6_Score\n",
      "Number of unique values: 3\n",
      "0.0    502\n",
      "1.0    200\n",
      "Name: A6_Score, dtype: int64\n",
      "\n",
      "\n",
      "A7_Score\n",
      "Number of unique values: 3\n",
      "0.0    407\n",
      "1.0    292\n",
      "Name: A7_Score, dtype: int64\n",
      "\n",
      "\n",
      "A8_Score\n",
      "Number of unique values: 3\n",
      "1.0    456\n",
      "0.0    247\n",
      "Name: A8_Score, dtype: int64\n",
      "\n",
      "\n",
      "A9_Score\n",
      "Number of unique values: 3\n",
      "0.0    474\n",
      "1.0    227\n",
      "Name: A9_Score, dtype: int64\n",
      "\n",
      "\n",
      "A10_Score\n",
      "Number of unique values: 3\n",
      "1.0    404\n",
      "0.0    299\n",
      "Name: A10_Score, dtype: int64\n",
      "\n",
      "\n",
      "Age\n",
      "Number of unique values: 47\n",
      "21.0     48\n",
      "20.0     45\n",
      "23.0     37\n",
      "22.0     37\n",
      "19.0     35\n",
      "24.0     34\n",
      "27.0     31\n",
      "18.0     31\n",
      "30.0     30\n",
      "26.0     28\n",
      "25.0     27\n",
      "29.0     26\n",
      "28.0     24\n",
      "31.0     21\n",
      "32.0     18\n",
      "17.0     18\n",
      "35.0     17\n",
      "37.0     17\n",
      "33.0     16\n",
      "40.0     15\n",
      "42.0     15\n",
      "36.0     13\n",
      "34.0     12\n",
      "38.0     12\n",
      "43.0     11\n",
      "44.0     10\n",
      "47.0      8\n",
      "39.0      7\n",
      "55.0      6\n",
      "53.0      6\n",
      "46.0      6\n",
      "50.0      5\n",
      "52.0      5\n",
      "45.0      4\n",
      "48.0      4\n",
      "49.0      3\n",
      "41.0      3\n",
      "54.0      2\n",
      "61.0      2\n",
      "56.0      2\n",
      "58.0      2\n",
      "64.0      1\n",
      "59.0      1\n",
      "60.0      1\n",
      "51.0      1\n",
      "383.0     1\n",
      "Name: Age, dtype: int64\n",
      "\n",
      "\n",
      "Gender\n",
      "Number of unique values: 3\n",
      "m    366\n",
      "f    335\n",
      "Name: Gender, dtype: int64\n",
      "\n",
      "\n",
      "Ethnicity\n",
      "Number of unique values: 12\n",
      "White-European       231\n",
      "Asian                122\n",
      "'Middle Eastern '     90\n",
      "Black                 43\n",
      "'South Asian'         36\n",
      "Others                30\n",
      "Latino                20\n",
      "Hispanic              13\n",
      "Pasifika              12\n",
      "Turkish                6\n",
      "others                 1\n",
      "Name: Ethnicity, dtype: int64\n",
      "\n",
      "\n",
      "Jundice\n",
      "Number of unique values: 3\n",
      "no     631\n",
      "yes     69\n",
      "Name: Jundice, dtype: int64\n",
      "\n",
      "\n",
      "Family\n",
      "Number of unique values: 3\n",
      "no     609\n",
      "yes     90\n",
      "Name: Family, dtype: int64\n",
      "\n",
      "\n",
      "Country_of_res\n",
      "Number of unique values: 68\n",
      "'United States'           113\n",
      "'United Arab Emirates'     81\n",
      "India                      81\n",
      "'New Zealand'              81\n",
      "'United Kingdom'           77\n",
      "Jordan                     46\n",
      "Australia                  27\n",
      "Canada                     14\n",
      "'Sri Lanka'                14\n",
      "Afghanistan                12\n",
      "France                     11\n",
      "Netherlands                10\n",
      "Brazil                      9\n",
      "Mexico                      8\n",
      "Iran                        7\n",
      "Russia                      7\n",
      "'Viet Nam'                  5\n",
      "Malaysia                    5\n",
      "Ireland                     5\n",
      "Italy                       5\n",
      "Austria                     4\n",
      "'Saudi Arabia'              4\n",
      "Philippines                 4\n",
      "Germany                     4\n",
      "Egypt                       3\n",
      "Spain                       3\n",
      "Bangladesh                  3\n",
      "Kazakhstan                  3\n",
      "Pakistan                    3\n",
      "Belgium                     3\n",
      "                         ... \n",
      "Ethiopia                    2\n",
      "AmericanSamoa               2\n",
      "Bahamas                     2\n",
      "China                       1\n",
      "Uruguay                     1\n",
      "Iraq                        1\n",
      "Angola                      1\n",
      "Finland                     1\n",
      "Azerbaijan                  1\n",
      "Serbia                      1\n",
      "Turkey                      1\n",
      "Chile                       1\n",
      "'Hong Kong'                 1\n",
      "Indonesia                   1\n",
      "Japan                       1\n",
      "Ecuador                     1\n",
      "Burundi                     1\n",
      "Aruba                       1\n",
      "Niger                       1\n",
      "Cyprus                      1\n",
      "Oman                        1\n",
      "Bolivia                     1\n",
      "'Czech Republic'            1\n",
      "Nepal                       1\n",
      "'Sierra Leone'              1\n",
      "Nicaragua                   1\n",
      "'Costa Rica'                1\n",
      "Portugal                    1\n",
      "Tonga                       1\n",
      "Lebanon                     1\n",
      "Name: Country_of_res, Length: 67, dtype: int64\n",
      "\n",
      "\n",
      "Used_app_before\n",
      "Number of unique values: 3\n",
      "no     689\n",
      "yes     12\n",
      "Name: Used_app_before, dtype: int64\n",
      "\n",
      "\n",
      "Age_desc\n",
      "Number of unique values: 2\n",
      "'18 and more'    700\n",
      "Name: Age_desc, dtype: int64\n",
      "\n",
      "\n",
      "Relation\n",
      "Number of unique values: 6\n",
      "Self                          520\n",
      "Parent                         50\n",
      "Relative                       28\n",
      "Others                          5\n",
      "'Health care professional'      4\n",
      "Name: Relation, dtype: int64\n",
      "\n",
      "\n",
      "ASD\n",
      "Number of unique values: 2\n",
      "NO     515\n",
      "YES    189\n",
      "Name: ASD, dtype: int64\n",
      "\n",
      "\n"
     ]
    }
   ],
   "source": [
    "for col in df.columns:\n",
    "    print(col)\n",
    "    print('Number of unique values: {}'.format(len(df[col].unique())))\n",
    "    print(df[col].value_counts())\n",
    "    print('\\n')"
   ]
  },
  {
   "cell_type": "markdown",
   "metadata": {},
   "source": [
    "## Data Visualization"
   ]
  },
  {
   "cell_type": "code",
   "execution_count": 10,
   "metadata": {},
   "outputs": [],
   "source": [
    "idx = df[df['Age'] == 383].index\n",
    "df.drop(index = idx, inplace = True)"
   ]
  },
  {
   "cell_type": "markdown",
   "metadata": {},
   "source": [
    "#### Data seems to be collected from Western and developed countries or more populous countries"
   ]
  },
  {
   "cell_type": "code",
   "execution_count": 11,
   "metadata": {},
   "outputs": [
    {
     "data": {
      "text/plain": [
       "<matplotlib.axes._subplots.AxesSubplot at 0x110c08668>"
      ]
     },
     "execution_count": 11,
     "metadata": {},
     "output_type": "execute_result"
    },
    {
     "data": {
      "image/png": "[encoded data removed]",
      "text/plain": [
       "<Figure size 1080x1080 with 1 Axes>"
      ]
     },
     "metadata": {
      "needs_background": "light"
     },
     "output_type": "display_data"
    }
   ],
   "source": [
    "# df.groupby(['Country_of_res','ASD']).size().plot(kind='barh')\n",
    "plt.figure(figsize=(15, 15))\n",
    "sns.countplot(y='Country_of_res', hue='ASD', data=df ,palette='RdBu')"
   ]
  },
  {
   "cell_type": "markdown",
   "metadata": {},
   "source": [
    "#### Majority of the data is White-European, Asian, and Middle Eastern"
   ]
  },
  {
   "cell_type": "code",
   "execution_count": 12,
   "metadata": {},
   "outputs": [
    {
     "data": {
      "text/plain": [
       "<matplotlib.axes._subplots.AxesSubplot at 0x1a277a1b38>"
      ]
     },
     "execution_count": 12,
     "metadata": {},
     "output_type": "execute_result"
    },
    {
     "data": {
      "image/png": "[encoded data removed]",
      "text/plain": [
       "<Figure size 432x288 with 1 Axes>"
      ]
     },
     "metadata": {
      "needs_background": "light"
     },
     "output_type": "display_data"
    }
   ],
   "source": [
    "sns.countplot(y='Ethnicity', hue='ASD', data=df ,palette='RdBu')"
   ]
  },
  {
   "cell_type": "markdown",
   "metadata": {},
   "source": [
    "#### Gender distribution looks equal"
   ]
  },
  {
   "cell_type": "code",
   "execution_count": 13,
   "metadata": {},
   "outputs": [
    {
     "data": {
      "text/plain": [
       "<matplotlib.axes._subplots.AxesSubplot at 0x1a277a15f8>"
      ]
     },
     "execution_count": 13,
     "metadata": {},
     "output_type": "execute_result"
    },
    {
     "data": {
      "image/png": "[encoded data removed]",
      "text/plain": [
       "<Figure size 432x288 with 1 Axes>"
      ]
     },
     "metadata": {
      "needs_background": "light"
     },
     "output_type": "display_data"
    }
   ],
   "source": [
    "sns.countplot(y='Gender', hue='ASD', data=df ,palette='RdBu')"
   ]
  },
  {
   "cell_type": "markdown",
   "metadata": {},
   "source": [
    "#### Distribution of Age grouped by ASD and Gender - There's not much difference between the groups"
   ]
  },
  {
   "cell_type": "code",
   "execution_count": 14,
   "metadata": {},
   "outputs": [
    {
     "name": "stderr",
     "output_type": "stream",
     "text": [
      "/Users/duytienpham/anaconda3/lib/python3.7/site-packages/scipy/stats/stats.py:1713: FutureWarning: Using a non-tuple sequence for multidimensional indexing is deprecated; use `arr[tuple(seq)]` instead of `arr[seq]`. In the future this will be interpreted as an array index, `arr[np.array(seq)]`, which will result either in an error or a different result.\n",
      "  return np.add.reduce(sorted[indexer] * weights, axis=axis) / sumval\n"
     ]
    },
    {
     "data": {
      "image/png": "[encoded data removed]",
      "text/plain": [
       "<Figure size 432x288 with 1 Axes>"
      ]
     },
     "metadata": {},
     "output_type": "display_data"
    }
   ],
   "source": [
    "sns.set(style=\"whitegrid\", color_codes=True)\n",
    "sns.violinplot(x=\"Age\", y=\"Gender\", hue=\"ASD\", split = True, data=df, palette={'YES': \"r\",  'NO': \"b\"})\n",
    "sns.despine(left=True)"
   ]
  },
  {
   "cell_type": "markdown",
   "metadata": {},
   "source": [
    "#### Distribution of Age grouped by Jaundice and ASD. ASD with Jaundice follows normal distribution while noASD with no Jaundice is more skewed to the right.\n",
    "- Note: 69 people with Jaundice - 631 without Jaundice"
   ]
  },
  {
   "cell_type": "code",
   "execution_count": 15,
   "metadata": {},
   "outputs": [
    {
     "data": {
      "image/png": "[encoded data removed]",
      "text/plain": [
       "<Figure size 432x288 with 1 Axes>"
      ]
     },
     "metadata": {},
     "output_type": "display_data"
    }
   ],
   "source": [
    "sns.violinplot(x=\"Age\", y=\"Jundice\", hue=\"ASD\", split = True, data=df, palette={'YES': \"r\",  'NO': \"b\"})\n",
    "sns.despine(left=True)"
   ]
  },
  {
   "cell_type": "markdown",
   "metadata": {},
   "source": [
    "#### Notice that there is no common pattern regarding the who diagnoses the symptoms\n",
    "- 80% self-diagnosed"
   ]
  },
  {
   "cell_type": "code",
   "execution_count": 16,
   "metadata": {},
   "outputs": [
    {
     "data": {
      "text/plain": [
       "[Text(0, 0, 'Self'),\n",
       " Text(0, 0, 'Parent'),\n",
       " Text(0, 0, \"'Health care professional'\"),\n",
       " Text(0, 0, 'Relative'),\n",
       " Text(0, 0, 'Others')]"
      ]
     },
     "execution_count": 16,
     "metadata": {},
     "output_type": "execute_result"
    },
    {
     "data": {
      "image/png": "[encoded data removed]",
      "text/plain": [
       "<Figure size 432x288 with 1 Axes>"
      ]
     },
     "metadata": {},
     "output_type": "display_data"
    }
   ],
   "source": [
    "ax = sns.violinplot(x=\"Relation\", y=\"Age\", hue=\"ASD\",split = True, data=df, palette= {'YES': \"r\",  'NO': \"b\"})\n",
    "# sns.despine(left=True)\n",
    "ax.set_xticklabels(ax.get_xticklabels(),rotation=30)"
   ]
  },
  {
   "cell_type": "markdown",
   "metadata": {},
   "source": [
    "# Part 2: Data Preprocessing"
   ]
  },
  {
   "cell_type": "markdown",
   "metadata": {},
   "source": [
    "### 1) Missing Data"
   ]
  },
  {
   "cell_type": "markdown",
   "metadata": {},
   "source": [
    "Number of missing data for each column"
   ]
  },
  {
   "cell_type": "code",
   "execution_count": 17,
   "metadata": {},
   "outputs": [
    {
     "data": {
      "text/plain": [
       "A1_Score           0.005690\n",
       "A2_Score           0.004267\n",
       "A3_Score           0.004267\n",
       "A4_Score           0.004267\n",
       "A5_Score           0.000000\n",
       "A6_Score           0.002845\n",
       "A7_Score           0.007112\n",
       "A8_Score           0.001422\n",
       "A9_Score           0.004267\n",
       "A10_Score          0.001422\n",
       "Age                0.008535\n",
       "Gender             0.004267\n",
       "Ethnicity          0.142248\n",
       "Jundice            0.005690\n",
       "Family             0.007112\n",
       "Country_of_res     0.005690\n",
       "Used_app_before    0.004267\n",
       "Age_desc           0.005690\n",
       "Relation           0.137980\n",
       "ASD                0.000000\n",
       "dtype: float64"
      ]
     },
     "execution_count": 17,
     "metadata": {},
     "output_type": "execute_result"
    }
   ],
   "source": [
    "df.isna().sum()/df.shape[0] "
   ]
  },
  {
   "cell_type": "code",
   "execution_count": 18,
   "metadata": {},
   "outputs": [
    {
     "data": {
      "text/plain": [
       "<matplotlib.axes._subplots.AxesSubplot at 0x1a27edc320>"
      ]
     },
     "execution_count": 18,
     "metadata": {},
     "output_type": "execute_result"
    },
    {
     "data": {
      "image/png": "[encoded data removed]",
      "text/plain": [
       "<Figure size 432x288 with 2 Axes>"
      ]
     },
     "metadata": {},
     "output_type": "display_data"
    }
   ],
   "source": [
    "sns.heatmap(df.isnull())"
   ]
  },
  {
   "cell_type": "markdown",
   "metadata": {},
   "source": [
    "### 2) Clean up"
   ]
  },
  {
   "cell_type": "markdown",
   "metadata": {},
   "source": [
    "### a) Drop Age_desc because Age already describes this info.\n",
    "- Drop any rows NaN except for ones in Ethnicity and Relation\n",
    "- Hypothesis: Country of Residence and Ethnicity play a role in ASD - convert country of residence to region instead to reduce dimensionality"
   ]
  },
  {
   "cell_type": "code",
   "execution_count": 19,
   "metadata": {},
   "outputs": [],
   "source": [
    "clean_cols = list(set(df.columns) - {'Ethnicity', 'Relation'})\n",
    "df.dropna(subset = clean_cols, inplace = True)"
   ]
  },
  {
   "cell_type": "code",
   "execution_count": 20,
   "metadata": {},
   "outputs": [],
   "source": [
    "df['Ethnicity'].fillna('unknown', inplace = True)\n",
    "df['Relation'].fillna(df['Relation'].mode(), inplace = True)\n",
    "df.drop(columns = ['Age_desc'], inplace = True)\n",
    "df.dropna(inplace = True)"
   ]
  },
  {
   "cell_type": "markdown",
   "metadata": {},
   "source": [
    "### b) Region for countries dataset"
   ]
  },
  {
   "cell_type": "code",
   "execution_count": 21,
   "metadata": {},
   "outputs": [],
   "source": [
    "#############################################\n",
    "continents = pd.read_csv('countryContinent.csv', engine = 'python')\n",
    "continents = continents[['country','sub_region']]\n",
    "continent_dict = dict(zip(continents.country.tolist(), continents.sub_region.tolist()))"
   ]
  },
  {
   "cell_type": "code",
   "execution_count": 22,
   "metadata": {},
   "outputs": [
    {
     "data": {
      "text/html": [
       "<div>\n",
       "<style scoped>\n",
       "    .dataframe tbody tr th:only-of-type {\n",
       "        vertical-align: middle;\n",
       "    }\n",
       "\n",
       "    .dataframe tbody tr th {\n",
       "        vertical-align: top;\n",
       "    }\n",
       "\n",
       "    .dataframe thead th {\n",
       "        text-align: right;\n",
       "    }\n",
       "</style>\n",
       "<table border=\"1\" class=\"dataframe\">\n",
       "  <thead>\n",
       "    <tr style=\"text-align: right;\">\n",
       "      <th></th>\n",
       "      <th>country</th>\n",
       "      <th>sub_region</th>\n",
       "    </tr>\n",
       "  </thead>\n",
       "  <tbody>\n",
       "    <tr>\n",
       "      <th>0</th>\n",
       "      <td>Afghanistan</td>\n",
       "      <td>Southern Asia</td>\n",
       "    </tr>\n",
       "    <tr>\n",
       "      <th>1</th>\n",
       "      <td>�land Islands</td>\n",
       "      <td>Northern Europe</td>\n",
       "    </tr>\n",
       "    <tr>\n",
       "      <th>2</th>\n",
       "      <td>Albania</td>\n",
       "      <td>Southern Europe</td>\n",
       "    </tr>\n",
       "    <tr>\n",
       "      <th>3</th>\n",
       "      <td>Algeria</td>\n",
       "      <td>Northern Africa</td>\n",
       "    </tr>\n",
       "    <tr>\n",
       "      <th>4</th>\n",
       "      <td>American Samoa</td>\n",
       "      <td>Polynesia</td>\n",
       "    </tr>\n",
       "  </tbody>\n",
       "</table>\n",
       "</div>"
      ],
      "text/plain": [
       "          country       sub_region\n",
       "0     Afghanistan    Southern Asia\n",
       "1   �land Islands  Northern Europe\n",
       "2         Albania  Southern Europe\n",
       "3         Algeria  Northern Africa\n",
       "4  American Samoa        Polynesia"
      ]
     },
     "execution_count": 22,
     "metadata": {},
     "output_type": "execute_result"
    }
   ],
   "source": [
    "continents.head()"
   ]
  },
  {
   "cell_type": "code",
   "execution_count": 23,
   "metadata": {},
   "outputs": [],
   "source": [
    "continent_country_lst = continents['country'].tolist()\n",
    "df_countries = list(set(df['Country_of_res'].tolist()))\n",
    "region_dict = {}\n",
    "#apply jaccard distance to find the closest similar string\n",
    "for c in df_countries:\n",
    "    jaccard = [nltk.jaccard_distance(set(c),set(country)) for country in continent_country_lst]\n",
    "    region = continent_dict[continent_country_lst[jaccard.index(min(jaccard))]]\n",
    "    region_dict[c] = region\n",
    "\n",
    "region_dict[\"'United States'\"] = 'Northern America'\n",
    "region_dict[\"Slovakia\"] = 'Eastern Europe'\n",
    "region_dict[\"Russia\"] = 'Eastern Europe'\n",
    "\n",
    "#############################################\n",
    "df['Country_of_res'] = df['Country_of_res'].apply(lambda x: region_dict[x])"
   ]
  },
  {
   "cell_type": "code",
   "execution_count": 24,
   "metadata": {},
   "outputs": [
    {
     "data": {
      "text/html": [
       "<div>\n",
       "<style scoped>\n",
       "    .dataframe tbody tr th:only-of-type {\n",
       "        vertical-align: middle;\n",
       "    }\n",
       "\n",
       "    .dataframe tbody tr th {\n",
       "        vertical-align: top;\n",
       "    }\n",
       "\n",
       "    .dataframe thead th {\n",
       "        text-align: right;\n",
       "    }\n",
       "</style>\n",
       "<table border=\"1\" class=\"dataframe\">\n",
       "  <thead>\n",
       "    <tr style=\"text-align: right;\">\n",
       "      <th></th>\n",
       "      <th>A1_Score</th>\n",
       "      <th>A2_Score</th>\n",
       "      <th>A3_Score</th>\n",
       "      <th>A4_Score</th>\n",
       "      <th>A5_Score</th>\n",
       "      <th>A6_Score</th>\n",
       "      <th>A7_Score</th>\n",
       "      <th>A8_Score</th>\n",
       "      <th>A9_Score</th>\n",
       "      <th>A10_Score</th>\n",
       "      <th>Age</th>\n",
       "      <th>Gender</th>\n",
       "      <th>Ethnicity</th>\n",
       "      <th>Jundice</th>\n",
       "      <th>Family</th>\n",
       "      <th>Country_of_res</th>\n",
       "      <th>Used_app_before</th>\n",
       "      <th>Relation</th>\n",
       "      <th>ASD</th>\n",
       "    </tr>\n",
       "  </thead>\n",
       "  <tbody>\n",
       "    <tr>\n",
       "      <th>0</th>\n",
       "      <td>1.0</td>\n",
       "      <td>1.0</td>\n",
       "      <td>1.0</td>\n",
       "      <td>1.0</td>\n",
       "      <td>0</td>\n",
       "      <td>0.0</td>\n",
       "      <td>1.0</td>\n",
       "      <td>1.0</td>\n",
       "      <td>0.0</td>\n",
       "      <td>0.0</td>\n",
       "      <td>26.0</td>\n",
       "      <td>f</td>\n",
       "      <td>White-European</td>\n",
       "      <td>no</td>\n",
       "      <td>no</td>\n",
       "      <td>Northern America</td>\n",
       "      <td>no</td>\n",
       "      <td>Self</td>\n",
       "      <td>NO</td>\n",
       "    </tr>\n",
       "    <tr>\n",
       "      <th>1</th>\n",
       "      <td>1.0</td>\n",
       "      <td>1.0</td>\n",
       "      <td>0.0</td>\n",
       "      <td>1.0</td>\n",
       "      <td>0</td>\n",
       "      <td>0.0</td>\n",
       "      <td>0.0</td>\n",
       "      <td>1.0</td>\n",
       "      <td>0.0</td>\n",
       "      <td>1.0</td>\n",
       "      <td>24.0</td>\n",
       "      <td>m</td>\n",
       "      <td>Latino</td>\n",
       "      <td>no</td>\n",
       "      <td>yes</td>\n",
       "      <td>South America</td>\n",
       "      <td>no</td>\n",
       "      <td>Self</td>\n",
       "      <td>NO</td>\n",
       "    </tr>\n",
       "    <tr>\n",
       "      <th>2</th>\n",
       "      <td>1.0</td>\n",
       "      <td>1.0</td>\n",
       "      <td>0.0</td>\n",
       "      <td>1.0</td>\n",
       "      <td>1</td>\n",
       "      <td>0.0</td>\n",
       "      <td>1.0</td>\n",
       "      <td>1.0</td>\n",
       "      <td>1.0</td>\n",
       "      <td>1.0</td>\n",
       "      <td>27.0</td>\n",
       "      <td>m</td>\n",
       "      <td>Latino</td>\n",
       "      <td>yes</td>\n",
       "      <td>yes</td>\n",
       "      <td>Southern Europe</td>\n",
       "      <td>no</td>\n",
       "      <td>Parent</td>\n",
       "      <td>YES</td>\n",
       "    </tr>\n",
       "    <tr>\n",
       "      <th>3</th>\n",
       "      <td>1.0</td>\n",
       "      <td>1.0</td>\n",
       "      <td>0.0</td>\n",
       "      <td>1.0</td>\n",
       "      <td>0</td>\n",
       "      <td>0.0</td>\n",
       "      <td>1.0</td>\n",
       "      <td>1.0</td>\n",
       "      <td>0.0</td>\n",
       "      <td>1.0</td>\n",
       "      <td>35.0</td>\n",
       "      <td>f</td>\n",
       "      <td>White-European</td>\n",
       "      <td>no</td>\n",
       "      <td>yes</td>\n",
       "      <td>Northern America</td>\n",
       "      <td>no</td>\n",
       "      <td>Self</td>\n",
       "      <td>NO</td>\n",
       "    </tr>\n",
       "    <tr>\n",
       "      <th>5</th>\n",
       "      <td>1.0</td>\n",
       "      <td>1.0</td>\n",
       "      <td>1.0</td>\n",
       "      <td>1.0</td>\n",
       "      <td>1</td>\n",
       "      <td>0.0</td>\n",
       "      <td>1.0</td>\n",
       "      <td>1.0</td>\n",
       "      <td>1.0</td>\n",
       "      <td>1.0</td>\n",
       "      <td>36.0</td>\n",
       "      <td>m</td>\n",
       "      <td>Others</td>\n",
       "      <td>yes</td>\n",
       "      <td>no</td>\n",
       "      <td>Northern America</td>\n",
       "      <td>no</td>\n",
       "      <td>Self</td>\n",
       "      <td>YES</td>\n",
       "    </tr>\n",
       "  </tbody>\n",
       "</table>\n",
       "</div>"
      ],
      "text/plain": [
       "   A1_Score  A2_Score  A3_Score  A4_Score  A5_Score  A6_Score  A7_Score  \\\n",
       "0       1.0       1.0       1.0       1.0         0       0.0       1.0   \n",
       "1       1.0       1.0       0.0       1.0         0       0.0       0.0   \n",
       "2       1.0       1.0       0.0       1.0         1       0.0       1.0   \n",
       "3       1.0       1.0       0.0       1.0         0       0.0       1.0   \n",
       "5       1.0       1.0       1.0       1.0         1       0.0       1.0   \n",
       "\n",
       "   A8_Score  A9_Score  A10_Score   Age Gender       Ethnicity Jundice Family  \\\n",
       "0       1.0       0.0        0.0  26.0      f  White-European      no     no   \n",
       "1       1.0       0.0        1.0  24.0      m          Latino      no    yes   \n",
       "2       1.0       1.0        1.0  27.0      m          Latino     yes    yes   \n",
       "3       1.0       0.0        1.0  35.0      f  White-European      no    yes   \n",
       "5       1.0       1.0        1.0  36.0      m          Others     yes     no   \n",
       "\n",
       "     Country_of_res Used_app_before Relation  ASD  \n",
       "0  Northern America              no     Self   NO  \n",
       "1     South America              no     Self   NO  \n",
       "2   Southern Europe              no   Parent  YES  \n",
       "3  Northern America              no     Self   NO  \n",
       "5  Northern America              no     Self  YES  "
      ]
     },
     "execution_count": 24,
     "metadata": {},
     "output_type": "execute_result"
    }
   ],
   "source": [
    "df.head()"
   ]
  },
  {
   "cell_type": "code",
   "execution_count": 25,
   "metadata": {},
   "outputs": [
    {
     "data": {
      "text/plain": [
       "<matplotlib.axes._subplots.AxesSubplot at 0x1a280dce48>"
      ]
     },
     "execution_count": 25,
     "metadata": {},
     "output_type": "execute_result"
    },
    {
     "data": {
      "image/png": "[encoded data removed]",
      "text/plain": [
       "<Figure size 432x288 with 1 Axes>"
      ]
     },
     "metadata": {},
     "output_type": "display_data"
    }
   ],
   "source": [
    "sns.countplot(y='Country_of_res', hue='ASD', data=df ,palette='RdBu')"
   ]
  },
  {
   "cell_type": "markdown",
   "metadata": {},
   "source": [
    "### c) Check multicollinearity among the categorical variables"
   ]
  },
  {
   "cell_type": "code",
   "execution_count": 26,
   "metadata": {},
   "outputs": [],
   "source": [
    "def cramers_corrected_stat(confusion_matrix):\n",
    "    chi2,p_value,dof,_ = ss.chi2_contingency(confusion_matrix)\n",
    "#     print('dof: ',dof)\n",
    "    n = confusion_matrix.sum().sum()\n",
    "    phi2 = chi2/n\n",
    "    r,k = confusion_matrix.shape\n",
    "    phi2corr = max(0, phi2 - ((k-1)*(r-1))/(n-1))    \n",
    "    rcorr = r - ((r-1)**2)/(n-1)\n",
    "    kcorr = k - ((k-1)**2)/(n-1)\n",
    "    return np.sqrt(phi2corr / min( (kcorr-1), (rcorr-1))), p_value, dof"
   ]
  },
  {
   "cell_type": "code",
   "execution_count": 27,
   "metadata": {},
   "outputs": [],
   "source": [
    "cols = df.columns[:-1]\n",
    "correlation_matrix = np.zeros((len(cols),len(cols)))\n",
    "p_matrix = np.zeros((len(cols),len(cols)))\n",
    "dof_matrix =  np.zeros((len(cols),len(cols)))\n",
    "for i in range(len(cols)):\n",
    "    if i + 1 <len(cols):\n",
    "        for j in range(0,len(cols)):\n",
    "            contigency_table = pd.crosstab(df.iloc[:,i], df.iloc[:,j])\n",
    "            cramer, pvalue, dof = cramers_corrected_stat(contigency_table)\n",
    "            if cramer < 0.4:\n",
    "                val = 0\n",
    "            else:\n",
    "                val = cramer\n",
    "            correlation_matrix[i,j] += val\n",
    "            if pvalue < 0.05:\n",
    "                p_matrix[i,j] += 1\n",
    "            else:\n",
    "                continue\n",
    "            dof_matrix[i,j] += dof\n",
    "    else:\n",
    "        break"
   ]
  },
  {
   "cell_type": "markdown",
   "metadata": {},
   "source": [
    "### d) Plot out the correlation matrix for categorical variables (based on Cramer's V and p-value) and see if there is any strong correlation among them"
   ]
  },
  {
   "cell_type": "code",
   "execution_count": 28,
   "metadata": {},
   "outputs": [
    {
     "data": {
      "text/plain": [
       "<matplotlib.axes._subplots.AxesSubplot at 0x1a280f6828>"
      ]
     },
     "execution_count": 28,
     "metadata": {},
     "output_type": "execute_result"
    },
    {
     "data": {
      "image/png": "[encoded data removed]",
      "text/plain": [
       "<Figure size 432x288 with 2 Axes>"
      ]
     },
     "metadata": {},
     "output_type": "display_data"
    }
   ],
   "source": [
    "sns.heatmap(correlation_matrix, xticklabels = cols, yticklabels = cols)"
   ]
  },
  {
   "cell_type": "code",
   "execution_count": 29,
   "metadata": {},
   "outputs": [
    {
     "data": {
      "text/plain": [
       "<matplotlib.axes._subplots.AxesSubplot at 0x1a2778dbe0>"
      ]
     },
     "execution_count": 29,
     "metadata": {},
     "output_type": "execute_result"
    },
    {
     "data": {
      "image/png": "[encoded data removed]",
      "text/plain": [
       "<Figure size 432x288 with 2 Axes>"
      ]
     },
     "metadata": {},
     "output_type": "display_data"
    }
   ],
   "source": [
    "sns.heatmap(p_matrix, xticklabels = cols, yticklabels = cols)"
   ]
  },
  {
   "cell_type": "markdown",
   "metadata": {},
   "source": [
    "### e) No strong correlation among the categorical variables - Convert the values to binary and creat one hot encoding"
   ]
  },
  {
   "cell_type": "code",
   "execution_count": 30,
   "metadata": {},
   "outputs": [],
   "source": [
    "df['ASD'] = df['ASD'].apply(lambda x: 1 if x == 'YES' else 0)\n",
    "df['Gender'] = df['Gender'].apply(lambda x: 1 if x == 'f' else 0)\n",
    "df['Jundice'] = df['Jundice'].apply(lambda x: 1 if x == 'yes' else 0)\n",
    "df['Family'] = df['Family'].apply(lambda x: 1 if x == 'yes' else 0)\n",
    "df['Used_app_before'] = df['Used_app_before'].apply(lambda x: 1 if x == 'yes' else 0)"
   ]
  },
  {
   "cell_type": "code",
   "execution_count": 31,
   "metadata": {},
   "outputs": [],
   "source": [
    "asd_status = df[['ASD']]\n",
    "df = pd.concat([df, pd.get_dummies(df['Relation'], prefix = 'Relation')], axis = 1)\n",
    "df = pd.concat([df, pd.get_dummies(df['Ethnicity'], prefix = 'Ethnicity')], axis = 1)\n",
    "df = pd.concat([df, pd.get_dummies(df['Country_of_res'], prefix = 'Region')], axis = 1)\n",
    "df.drop(columns = ['ASD','Relation','Ethnicity','Country_of_res'], inplace = True)\n",
    "df = pd.concat([df, asd_status], axis = 1)"
   ]
  },
  {
   "cell_type": "markdown",
   "metadata": {},
   "source": [
    "# Part 3: Model Training"
   ]
  },
  {
   "cell_type": "code",
   "execution_count": 32,
   "metadata": {},
   "outputs": [],
   "source": [
    "from sklearn.linear_model import LogisticRegression\n",
    "from sklearn.ensemble import RandomForestClassifier\n",
    "from sklearn.tree import DecisionTreeClassifier\n",
    "from sklearn.model_selection import cross_val_score\n",
    "from sklearn.model_selection import train_test_split\n",
    "from sklearn.metrics import f1_score\n",
    "from sklearn.metrics import confusion_matrix"
   ]
  },
  {
   "cell_type": "code",
   "execution_count": 33,
   "metadata": {},
   "outputs": [],
   "source": [
    "X = df.iloc[:,:-1]\n",
    "y = df.iloc[:,-1]\n",
    "X_train, X_test, y_train, y_test = train_test_split(X, y, test_size=0.2, random_state=42)\n",
    "X_train, X_val, y_train, y_val = train_test_split(X_train, y_train, test_size=0.2, random_state=42)"
   ]
  },
  {
   "cell_type": "markdown",
   "metadata": {},
   "source": [
    "## a) Logistic Regression"
   ]
  },
  {
   "cell_type": "code",
   "execution_count": 34,
   "metadata": {},
   "outputs": [
    {
     "name": "stderr",
     "output_type": "stream",
     "text": [
      "/Users/duytienpham/anaconda3/lib/python3.7/site-packages/sklearn/linear_model/logistic.py:433: FutureWarning: Default solver will be changed to 'lbfgs' in 0.22. Specify a solver to silence this warning.\n",
      "  FutureWarning)\n"
     ]
    },
    {
     "data": {
      "text/plain": [
       "0.9433962264150945"
      ]
     },
     "execution_count": 34,
     "metadata": {},
     "output_type": "execute_result"
    }
   ],
   "source": [
    "logreg = LogisticRegression(class_weight = dict(Counter(df['ASD'].tolist())))\n",
    "logreg.fit(X_train, y_train)\n",
    "y_val_logreg = logreg.predict(X_val)\n",
    "f1_score(y_val, y_val_logreg)"
   ]
  },
  {
   "cell_type": "markdown",
   "metadata": {},
   "source": [
    "#### a) Confusion Matrix for the validation set"
   ]
  },
  {
   "cell_type": "code",
   "execution_count": 35,
   "metadata": {},
   "outputs": [
    {
     "data": {
      "text/plain": [
       "array([[62,  3],\n",
       "       [ 0, 25]])"
      ]
     },
     "execution_count": 35,
     "metadata": {},
     "output_type": "execute_result"
    }
   ],
   "source": [
    "confusion_matrix(y_val, y_val_logreg)"
   ]
  },
  {
   "cell_type": "markdown",
   "metadata": {},
   "source": [
    "#### b) Prediction and Evaluation on Test set"
   ]
  },
  {
   "cell_type": "code",
   "execution_count": 36,
   "metadata": {},
   "outputs": [
    {
     "data": {
      "text/plain": [
       "array([[82,  1],\n",
       "       [ 0, 30]])"
      ]
     },
     "execution_count": 36,
     "metadata": {},
     "output_type": "execute_result"
    }
   ],
   "source": [
    "y_test_logreg = logreg.predict(X_test)\n",
    "confusion_matrix(y_test, y_test_logreg)"
   ]
  },
  {
   "cell_type": "code",
   "execution_count": 37,
   "metadata": {},
   "outputs": [
    {
     "data": {
      "text/plain": [
       "0.9836065573770492"
      ]
     },
     "execution_count": 37,
     "metadata": {},
     "output_type": "execute_result"
    }
   ],
   "source": [
    "f1_score(y_test, y_test_logreg)"
   ]
  },
  {
   "cell_type": "markdown",
   "metadata": {},
   "source": [
    "## b) Random Forest"
   ]
  },
  {
   "cell_type": "markdown",
   "metadata": {},
   "source": [
    "#### a) Parameter tuning and Validation evaluation"
   ]
  },
  {
   "cell_type": "code",
   "execution_count": 38,
   "metadata": {},
   "outputs": [
    {
     "name": "stderr",
     "output_type": "stream",
     "text": [
      "/Users/duytienpham/anaconda3/lib/python3.7/site-packages/sklearn/ensemble/forest.py:246: FutureWarning: The default value of n_estimators will change from 10 in version 0.20 to 100 in 0.22.\n",
      "  \"10 in version 0.20 to 100 in 0.22.\", FutureWarning)\n"
     ]
    },
    {
     "data": {
      "text/plain": [
       "0.8979591836734694"
      ]
     },
     "execution_count": 38,
     "metadata": {},
     "output_type": "execute_result"
    }
   ],
   "source": [
    "rf = RandomForestClassifier(class_weight = dict(Counter(df['ASD'].tolist())))\n",
    "rf.fit(X_train, y_train)\n",
    "y_val_rf = rf.predict(X_val)\n",
    "f1_score(y_val, y_val_rf)"
   ]
  },
  {
   "cell_type": "code",
   "execution_count": 39,
   "metadata": {},
   "outputs": [
    {
     "data": {
      "text/plain": [
       "array([[63,  2],\n",
       "       [ 3, 22]])"
      ]
     },
     "execution_count": 39,
     "metadata": {},
     "output_type": "execute_result"
    }
   ],
   "source": [
    "confusion_matrix(y_val, y_val_rf)"
   ]
  },
  {
   "cell_type": "markdown",
   "metadata": {},
   "source": [
    "#### b) Prediction and Evaluation on Test set"
   ]
  },
  {
   "cell_type": "code",
   "execution_count": 40,
   "metadata": {},
   "outputs": [
    {
     "data": {
      "text/plain": [
       "array([[82,  1],\n",
       "       [ 6, 24]])"
      ]
     },
     "execution_count": 40,
     "metadata": {},
     "output_type": "execute_result"
    }
   ],
   "source": [
    "y_test_rf = rf.predict(X_test)\n",
    "confusion_matrix(y_test, y_test_rf)"
   ]
  },
  {
   "cell_type": "code",
   "execution_count": 41,
   "metadata": {},
   "outputs": [
    {
     "data": {
      "text/plain": [
       "0.8727272727272728"
      ]
     },
     "execution_count": 41,
     "metadata": {},
     "output_type": "execute_result"
    }
   ],
   "source": [
    "f1_score(y_test, y_test_rf)"
   ]
  },
  {
   "cell_type": "markdown",
   "metadata": {},
   "source": [
    "## c) Decision Tree"
   ]
  },
  {
   "cell_type": "code",
   "execution_count": 42,
   "metadata": {},
   "outputs": [],
   "source": [
    "from sklearn import tree\n",
    "import matplotlib.pyplot as plt\n",
    "from sklearn.externals.six import StringIO  \n",
    "import pydot "
   ]
  },
  {
   "cell_type": "code",
   "execution_count": 43,
   "metadata": {},
   "outputs": [
    {
     "data": {
      "text/plain": [
       "0.7843137254901961"
      ]
     },
     "execution_count": 43,
     "metadata": {},
     "output_type": "execute_result"
    }
   ],
   "source": [
    "dt = DecisionTreeClassifier(class_weight = dict(Counter(df['ASD'].tolist())))\n",
    "dt.fit(X_train, y_train)\n",
    "y_val_dt = dt.predict(X_val)\n",
    "f1_score(y_val, y_val_dt)"
   ]
  },
  {
   "cell_type": "code",
   "execution_count": 44,
   "metadata": {},
   "outputs": [
    {
     "data": {
      "text/plain": [
       "array([[59,  6],\n",
       "       [ 5, 20]])"
      ]
     },
     "execution_count": 44,
     "metadata": {},
     "output_type": "execute_result"
    }
   ],
   "source": [
    "confusion_matrix(y_val, y_val_dt)"
   ]
  },
  {
   "cell_type": "markdown",
   "metadata": {},
   "source": [
    "#### Prediction and Evaluation on Test Set"
   ]
  },
  {
   "cell_type": "code",
   "execution_count": 45,
   "metadata": {},
   "outputs": [
    {
     "data": {
      "text/plain": [
       "array([[82,  1],\n",
       "       [ 6, 24]])"
      ]
     },
     "execution_count": 45,
     "metadata": {},
     "output_type": "execute_result"
    }
   ],
   "source": [
    "y_test_dt = rf.predict(X_test)\n",
    "confusion_matrix(y_test, y_test_dt)"
   ]
  },
  {
   "cell_type": "code",
   "execution_count": 46,
   "metadata": {},
   "outputs": [
    {
     "data": {
      "text/plain": [
       "0.8727272727272728"
      ]
     },
     "execution_count": 46,
     "metadata": {},
     "output_type": "execute_result"
    }
   ],
   "source": [
    "f1_score(y_test, y_test_dt)"
   ]
  },
  {
   "cell_type": "markdown",
   "metadata": {},
   "source": [
    "# Part 4: Evaluation for the three models"
   ]
  },
  {
   "cell_type": "code",
   "execution_count": 47,
   "metadata": {},
   "outputs": [
    {
     "name": "stderr",
     "output_type": "stream",
     "text": [
      "/Users/duytienpham/anaconda3/lib/python3.7/site-packages/sklearn/linear_model/logistic.py:433: FutureWarning: Default solver will be changed to 'lbfgs' in 0.22. Specify a solver to silence this warning.\n",
      "  FutureWarning)\n"
     ]
    }
   ],
   "source": [
    "from sklearn.metrics import roc_curve, roc_auc_score\n",
    "\n",
    "# Instantiate the classfiers and make a list\n",
    "classifiers = [logreg, rf, dt]\n",
    "\n",
    "# Define a result table as a DataFrame\n",
    "result_table = pd.DataFrame(columns=['classifiers', 'fpr','tpr','auc'])\n",
    "\n",
    "# Train the models and record the results\n",
    "for clf in classifiers:\n",
    "    model = clf.fit(X_train, y_train)\n",
    "    yproba = model.predict_proba(X_test)[::,1]\n",
    "    \n",
    "    fpr, tpr, _ = roc_curve(y_test, yproba)\n",
    "    auc = roc_auc_score(y_test, yproba)\n",
    "    \n",
    "    result_table = result_table.append({'classifiers':clf.__class__.__name__,\n",
    "                                        'fpr':fpr, \n",
    "                                        'tpr':tpr, \n",
    "                                        'auc':auc}, ignore_index=True)\n",
    "\n",
    "# Set name of the classifiers as index labels\n",
    "result_table.set_index('classifiers', inplace=True)"
   ]
  },
  {
   "cell_type": "code",
   "execution_count": 48,
   "metadata": {},
   "outputs": [
    {
     "data": {
      "image/png": "[encoded data removed]",
      "text/plain": [
       "<Figure size 576x432 with 1 Axes>"
      ]
     },
     "metadata": {},
     "output_type": "display_data"
    }
   ],
   "source": [
    "fig = plt.figure(figsize=(8,6))\n",
    "\n",
    "for i in result_table.index:\n",
    "    plt.plot(result_table.loc[i]['fpr'], \n",
    "             result_table.loc[i]['tpr'], \n",
    "             label=\"{}, AUC={:.3f}\".format(i, result_table.loc[i]['auc']))\n",
    "    \n",
    "plt.plot([0,1], [0,1], color='orange', linestyle='--')\n",
    "\n",
    "plt.xticks(np.arange(0.0, 1.1, step=0.1))\n",
    "plt.xlabel(\"False Positive Rate\", fontsize=15)\n",
    "\n",
    "plt.yticks(np.arange(0.0, 1.1, step=0.1))\n",
    "plt.ylabel(\"True Positive Rate\", fontsize=15)\n",
    "\n",
    "plt.title('ROC Curve Analysis', fontweight='bold', fontsize=15)\n",
    "plt.legend(prop={'size':13}, loc='lower right')\n",
    "\n",
    "plt.show()"
   ]
  },
  {
   "cell_type": "markdown",
   "metadata": {},
   "source": [
    "#### Below is the coefficients of the Logistic Regression:\n",
    "- Considering feature A1_Score, if the person answer 'Yes' to A1, then the odds of having ASD is exp(7.165) times greater\n",
    "- Considering feature A1_Score, if the person answer 'Yes' to A2, then the odds of having ASD is exp(6.312) times greater"
   ]
  },
  {
   "cell_type": "code",
   "execution_count": 49,
   "metadata": {},
   "outputs": [
    {
     "data": {
      "text/html": [
       "<div>\n",
       "<style scoped>\n",
       "    .dataframe tbody tr th:only-of-type {\n",
       "        vertical-align: middle;\n",
       "    }\n",
       "\n",
       "    .dataframe tbody tr th {\n",
       "        vertical-align: top;\n",
       "    }\n",
       "\n",
       "    .dataframe thead th {\n",
       "        text-align: right;\n",
       "    }\n",
       "</style>\n",
       "<table border=\"1\" class=\"dataframe\">\n",
       "  <thead>\n",
       "    <tr style=\"text-align: right;\">\n",
       "      <th></th>\n",
       "      <th>0</th>\n",
       "      <th>0</th>\n",
       "    </tr>\n",
       "  </thead>\n",
       "  <tbody>\n",
       "    <tr>\n",
       "      <th>0</th>\n",
       "      <td>A1_Score</td>\n",
       "      <td>7.165500</td>\n",
       "    </tr>\n",
       "    <tr>\n",
       "      <th>1</th>\n",
       "      <td>A2_Score</td>\n",
       "      <td>6.312365</td>\n",
       "    </tr>\n",
       "    <tr>\n",
       "      <th>2</th>\n",
       "      <td>A3_Score</td>\n",
       "      <td>5.835827</td>\n",
       "    </tr>\n",
       "    <tr>\n",
       "      <th>3</th>\n",
       "      <td>A4_Score</td>\n",
       "      <td>6.488188</td>\n",
       "    </tr>\n",
       "    <tr>\n",
       "      <th>4</th>\n",
       "      <td>A5_Score</td>\n",
       "      <td>6.976953</td>\n",
       "    </tr>\n",
       "    <tr>\n",
       "      <th>5</th>\n",
       "      <td>A6_Score</td>\n",
       "      <td>6.600812</td>\n",
       "    </tr>\n",
       "    <tr>\n",
       "      <th>6</th>\n",
       "      <td>A7_Score</td>\n",
       "      <td>5.915609</td>\n",
       "    </tr>\n",
       "    <tr>\n",
       "      <th>7</th>\n",
       "      <td>A8_Score</td>\n",
       "      <td>4.329959</td>\n",
       "    </tr>\n",
       "    <tr>\n",
       "      <th>8</th>\n",
       "      <td>A9_Score</td>\n",
       "      <td>6.516563</td>\n",
       "    </tr>\n",
       "    <tr>\n",
       "      <th>9</th>\n",
       "      <td>A10_Score</td>\n",
       "      <td>5.766433</td>\n",
       "    </tr>\n",
       "    <tr>\n",
       "      <th>10</th>\n",
       "      <td>Age</td>\n",
       "      <td>-0.039931</td>\n",
       "    </tr>\n",
       "    <tr>\n",
       "      <th>11</th>\n",
       "      <td>Gender</td>\n",
       "      <td>0.763666</td>\n",
       "    </tr>\n",
       "    <tr>\n",
       "      <th>12</th>\n",
       "      <td>Jundice</td>\n",
       "      <td>-1.861013</td>\n",
       "    </tr>\n",
       "    <tr>\n",
       "      <th>13</th>\n",
       "      <td>Family</td>\n",
       "      <td>-0.128378</td>\n",
       "    </tr>\n",
       "    <tr>\n",
       "      <th>14</th>\n",
       "      <td>Used_app_before</td>\n",
       "      <td>2.063224</td>\n",
       "    </tr>\n",
       "    <tr>\n",
       "      <th>15</th>\n",
       "      <td>Relation_'Health care professional'</td>\n",
       "      <td>-7.212387</td>\n",
       "    </tr>\n",
       "    <tr>\n",
       "      <th>16</th>\n",
       "      <td>Relation_Others</td>\n",
       "      <td>-5.286155</td>\n",
       "    </tr>\n",
       "    <tr>\n",
       "      <th>17</th>\n",
       "      <td>Relation_Parent</td>\n",
       "      <td>-4.431982</td>\n",
       "    </tr>\n",
       "    <tr>\n",
       "      <th>18</th>\n",
       "      <td>Relation_Relative</td>\n",
       "      <td>-6.341478</td>\n",
       "    </tr>\n",
       "    <tr>\n",
       "      <th>19</th>\n",
       "      <td>Relation_Self</td>\n",
       "      <td>-4.931447</td>\n",
       "    </tr>\n",
       "    <tr>\n",
       "      <th>20</th>\n",
       "      <td>Ethnicity_'Middle Eastern '</td>\n",
       "      <td>-5.215115</td>\n",
       "    </tr>\n",
       "    <tr>\n",
       "      <th>21</th>\n",
       "      <td>Ethnicity_'South Asian'</td>\n",
       "      <td>-3.800207</td>\n",
       "    </tr>\n",
       "    <tr>\n",
       "      <th>22</th>\n",
       "      <td>Ethnicity_Asian</td>\n",
       "      <td>-3.377414</td>\n",
       "    </tr>\n",
       "    <tr>\n",
       "      <th>23</th>\n",
       "      <td>Ethnicity_Black</td>\n",
       "      <td>-1.259196</td>\n",
       "    </tr>\n",
       "    <tr>\n",
       "      <th>24</th>\n",
       "      <td>Ethnicity_Hispanic</td>\n",
       "      <td>-3.041706</td>\n",
       "    </tr>\n",
       "    <tr>\n",
       "      <th>25</th>\n",
       "      <td>Ethnicity_Latino</td>\n",
       "      <td>-1.697731</td>\n",
       "    </tr>\n",
       "    <tr>\n",
       "      <th>26</th>\n",
       "      <td>Ethnicity_Others</td>\n",
       "      <td>-3.258829</td>\n",
       "    </tr>\n",
       "    <tr>\n",
       "      <th>27</th>\n",
       "      <td>Ethnicity_Pasifika</td>\n",
       "      <td>-1.558793</td>\n",
       "    </tr>\n",
       "    <tr>\n",
       "      <th>28</th>\n",
       "      <td>Ethnicity_Turkish</td>\n",
       "      <td>-0.088937</td>\n",
       "    </tr>\n",
       "    <tr>\n",
       "      <th>29</th>\n",
       "      <td>Ethnicity_White-European</td>\n",
       "      <td>-3.214318</td>\n",
       "    </tr>\n",
       "    <tr>\n",
       "      <th>30</th>\n",
       "      <td>Ethnicity_others</td>\n",
       "      <td>-1.536374</td>\n",
       "    </tr>\n",
       "    <tr>\n",
       "      <th>31</th>\n",
       "      <td>Ethnicity_unknown</td>\n",
       "      <td>-0.154830</td>\n",
       "    </tr>\n",
       "    <tr>\n",
       "      <th>32</th>\n",
       "      <td>Region_Australia and New Zealand</td>\n",
       "      <td>-2.245372</td>\n",
       "    </tr>\n",
       "    <tr>\n",
       "      <th>33</th>\n",
       "      <td>Region_Caribbean</td>\n",
       "      <td>0.125772</td>\n",
       "    </tr>\n",
       "    <tr>\n",
       "      <th>34</th>\n",
       "      <td>Region_Central America</td>\n",
       "      <td>-0.587297</td>\n",
       "    </tr>\n",
       "    <tr>\n",
       "      <th>35</th>\n",
       "      <td>Region_Eastern Africa</td>\n",
       "      <td>-0.152241</td>\n",
       "    </tr>\n",
       "    <tr>\n",
       "      <th>36</th>\n",
       "      <td>Region_Eastern Europe</td>\n",
       "      <td>-3.349089</td>\n",
       "    </tr>\n",
       "    <tr>\n",
       "      <th>37</th>\n",
       "      <td>Region_Middle Africa</td>\n",
       "      <td>-0.379408</td>\n",
       "    </tr>\n",
       "    <tr>\n",
       "      <th>38</th>\n",
       "      <td>Region_Northern Africa</td>\n",
       "      <td>0.000000</td>\n",
       "    </tr>\n",
       "    <tr>\n",
       "      <th>39</th>\n",
       "      <td>Region_Northern America</td>\n",
       "      <td>-2.821162</td>\n",
       "    </tr>\n",
       "    <tr>\n",
       "      <th>40</th>\n",
       "      <td>Region_Northern Europe</td>\n",
       "      <td>-3.512007</td>\n",
       "    </tr>\n",
       "    <tr>\n",
       "      <th>41</th>\n",
       "      <td>Region_Polynesia</td>\n",
       "      <td>0.000000</td>\n",
       "    </tr>\n",
       "    <tr>\n",
       "      <th>42</th>\n",
       "      <td>Region_South America</td>\n",
       "      <td>-4.689431</td>\n",
       "    </tr>\n",
       "    <tr>\n",
       "      <th>43</th>\n",
       "      <td>Region_South-Eastern Asia</td>\n",
       "      <td>-0.487934</td>\n",
       "    </tr>\n",
       "    <tr>\n",
       "      <th>44</th>\n",
       "      <td>Region_Southern Africa</td>\n",
       "      <td>0.019009</td>\n",
       "    </tr>\n",
       "    <tr>\n",
       "      <th>45</th>\n",
       "      <td>Region_Southern Asia</td>\n",
       "      <td>-3.780508</td>\n",
       "    </tr>\n",
       "    <tr>\n",
       "      <th>46</th>\n",
       "      <td>Region_Southern Europe</td>\n",
       "      <td>-1.235513</td>\n",
       "    </tr>\n",
       "    <tr>\n",
       "      <th>47</th>\n",
       "      <td>Region_Western Africa</td>\n",
       "      <td>1.390619</td>\n",
       "    </tr>\n",
       "    <tr>\n",
       "      <th>48</th>\n",
       "      <td>Region_Western Asia</td>\n",
       "      <td>-4.445728</td>\n",
       "    </tr>\n",
       "    <tr>\n",
       "      <th>49</th>\n",
       "      <td>Region_Western Europe</td>\n",
       "      <td>-2.053161</td>\n",
       "    </tr>\n",
       "  </tbody>\n",
       "</table>\n",
       "</div>"
      ],
      "text/plain": [
       "                                      0         0\n",
       "0                              A1_Score  7.165500\n",
       "1                              A2_Score  6.312365\n",
       "2                              A3_Score  5.835827\n",
       "3                              A4_Score  6.488188\n",
       "4                              A5_Score  6.976953\n",
       "5                              A6_Score  6.600812\n",
       "6                              A7_Score  5.915609\n",
       "7                              A8_Score  4.329959\n",
       "8                              A9_Score  6.516563\n",
       "9                             A10_Score  5.766433\n",
       "10                                  Age -0.039931\n",
       "11                               Gender  0.763666\n",
       "12                              Jundice -1.861013\n",
       "13                               Family -0.128378\n",
       "14                      Used_app_before  2.063224\n",
       "15  Relation_'Health care professional' -7.212387\n",
       "16                      Relation_Others -5.286155\n",
       "17                      Relation_Parent -4.431982\n",
       "18                    Relation_Relative -6.341478\n",
       "19                        Relation_Self -4.931447\n",
       "20          Ethnicity_'Middle Eastern ' -5.215115\n",
       "21              Ethnicity_'South Asian' -3.800207\n",
       "22                      Ethnicity_Asian -3.377414\n",
       "23                      Ethnicity_Black -1.259196\n",
       "24                   Ethnicity_Hispanic -3.041706\n",
       "25                     Ethnicity_Latino -1.697731\n",
       "26                     Ethnicity_Others -3.258829\n",
       "27                   Ethnicity_Pasifika -1.558793\n",
       "28                    Ethnicity_Turkish -0.088937\n",
       "29             Ethnicity_White-European -3.214318\n",
       "30                     Ethnicity_others -1.536374\n",
       "31                    Ethnicity_unknown -0.154830\n",
       "32     Region_Australia and New Zealand -2.245372\n",
       "33                     Region_Caribbean  0.125772\n",
       "34               Region_Central America -0.587297\n",
       "35                Region_Eastern Africa -0.152241\n",
       "36                Region_Eastern Europe -3.349089\n",
       "37                 Region_Middle Africa -0.379408\n",
       "38               Region_Northern Africa  0.000000\n",
       "39              Region_Northern America -2.821162\n",
       "40               Region_Northern Europe -3.512007\n",
       "41                     Region_Polynesia  0.000000\n",
       "42                 Region_South America -4.689431\n",
       "43            Region_South-Eastern Asia -0.487934\n",
       "44               Region_Southern Africa  0.019009\n",
       "45                 Region_Southern Asia -3.780508\n",
       "46               Region_Southern Europe -1.235513\n",
       "47                Region_Western Africa  1.390619\n",
       "48                  Region_Western Asia -4.445728\n",
       "49                Region_Western Europe -2.053161"
      ]
     },
     "execution_count": 49,
     "metadata": {},
     "output_type": "execute_result"
    }
   ],
   "source": [
    "pd.concat([pd.DataFrame(X.columns),pd.DataFrame(np.transpose(logreg.coef_))], axis = 1)"
   ]
  },
  {
   "cell_type": "code",
   "execution_count": null,
   "metadata": {},
   "outputs": [],
   "source": []
  }
 ],
 "metadata": {
  "kernelspec": {
   "display_name": "Python 3",
   "language": "python",
   "name": "python3"
  },
  "language_info": {
   "codemirror_mode": {
    "name": "ipython",
    "version": 3
   },
   "file_extension": ".py",
   "mimetype": "text/x-python",
   "name": "python",
   "nbconvert_exporter": "python",
   "pygments_lexer": "ipython3",
   "version": "3.7.1"
  }
 },
 "nbformat": 4,
 "nbformat_minor": 2
}
